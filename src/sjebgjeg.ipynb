{
 "cells": [
  {
   "cell_type": "code",
   "execution_count": 26,
   "metadata": {},
   "outputs": [
    {
     "name": "stdout",
     "output_type": "stream",
     "text": [
      "+---------+--------+---------+---------+\n",
      "| index   | nama   | stock   | price   |\n",
      "+=========+========+=========+=========+\n",
      "| index   | nama   | stock   | price   |\n",
      "| 0       | apel   | 20      | 20000   |\n",
      "| 1       | jeruk  | 15      | 10000   |\n",
      "| 2       | anggur | 12      | 15000   |\n",
      "+---------+--------+---------+---------+\n"
     ]
    }
   ],
   "source": [
    "import tabulate\n",
    "\n",
    "db = {\n",
    "    'column': ['index', 'nama', 'stock', 'price'],\n",
    "    'apel': [0, 'apel', 20, 20000],\n",
    "    'jeruk': [1, 'jeruk', 15, 10000],\n",
    "    'anggur': [2, 'anggur', 12, 15000],\n",
    "}\n",
    "\n",
    "print(tabulate.tabulate(db.values(), db['column'], tablefmt=\"outline\"))"
   ]
  },
  {
   "cell_type": "code",
   "execution_count": null,
   "metadata": {},
   "outputs": [],
   "source": []
  }
 ],
 "metadata": {
  "kernelspec": {
   "display_name": "Python 3",
   "language": "python",
   "name": "python3"
  },
  "language_info": {
   "codemirror_mode": {
    "name": "ipython",
    "version": 3
   },
   "file_extension": ".py",
   "mimetype": "text/x-python",
   "name": "python",
   "nbconvert_exporter": "python",
   "pygments_lexer": "ipython3",
   "version": "3.9.16"
  },
  "orig_nbformat": 4
 },
 "nbformat": 4,
 "nbformat_minor": 2
}
